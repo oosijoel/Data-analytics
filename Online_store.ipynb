{
 "cells": [
  {
   "cell_type": "code",
   "execution_count": 1,
   "id": "7d3ffc4e-08ad-4665-a9cf-27e9796b8c64",
   "metadata": {},
   "outputs": [],
   "source": [
    "import pandas as pd\n",
    "import matplotlib.pyplot as plt\n",
    "import numpy as np\n",
    "from sklearn.impute import SimpleImputer as Imputer\n",
    "%matplotlib inline"
   ]
  },
  {
   "cell_type": "code",
   "execution_count": 2,
   "id": "b97d5849-0e50-4ab2-b7cb-d5e94c096436",
   "metadata": {},
   "outputs": [],
   "source": [
    "original_df = pd.read_csv('online_store_customer_data.csv')\n",
    "df = original_df"
   ]
  },
  {
   "cell_type": "code",
   "execution_count": 3,
   "id": "f009b51d-3349-4818-bcb5-4a926ddda36f",
   "metadata": {},
   "outputs": [
    {
     "data": {
      "text/html": [
       "<div>\n",
       "<style scoped>\n",
       "    .dataframe tbody tr th:only-of-type {\n",
       "        vertical-align: middle;\n",
       "    }\n",
       "\n",
       "    .dataframe tbody tr th {\n",
       "        vertical-align: top;\n",
       "    }\n",
       "\n",
       "    .dataframe thead th {\n",
       "        text-align: right;\n",
       "    }\n",
       "</style>\n",
       "<table border=\"1\" class=\"dataframe\">\n",
       "  <thead>\n",
       "    <tr style=\"text-align: right;\">\n",
       "      <th></th>\n",
       "      <th>Transaction_date</th>\n",
       "      <th>Transaction_ID</th>\n",
       "      <th>Gender</th>\n",
       "      <th>Age</th>\n",
       "      <th>Marital_status</th>\n",
       "      <th>State_names</th>\n",
       "      <th>Segment</th>\n",
       "      <th>Employees_status</th>\n",
       "      <th>Payment_method</th>\n",
       "      <th>Referal</th>\n",
       "      <th>Amount_spent</th>\n",
       "    </tr>\n",
       "  </thead>\n",
       "  <tbody>\n",
       "    <tr>\n",
       "      <th>0</th>\n",
       "      <td>1/1/2019</td>\n",
       "      <td>151200</td>\n",
       "      <td>Female</td>\n",
       "      <td>19.0</td>\n",
       "      <td>Single</td>\n",
       "      <td>Kansas</td>\n",
       "      <td>Basic</td>\n",
       "      <td>Unemployment</td>\n",
       "      <td>Other</td>\n",
       "      <td>1.0</td>\n",
       "      <td>2051.36</td>\n",
       "    </tr>\n",
       "    <tr>\n",
       "      <th>1</th>\n",
       "      <td>1/1/2019</td>\n",
       "      <td>151201</td>\n",
       "      <td>Male</td>\n",
       "      <td>49.0</td>\n",
       "      <td>Single</td>\n",
       "      <td>Illinois</td>\n",
       "      <td>Basic</td>\n",
       "      <td>self-employed</td>\n",
       "      <td>Card</td>\n",
       "      <td>0.0</td>\n",
       "      <td>544.04</td>\n",
       "    </tr>\n",
       "    <tr>\n",
       "      <th>2</th>\n",
       "      <td>1/1/2019</td>\n",
       "      <td>151202</td>\n",
       "      <td>Male</td>\n",
       "      <td>63.0</td>\n",
       "      <td>Married</td>\n",
       "      <td>New Mexico</td>\n",
       "      <td>Basic</td>\n",
       "      <td>workers</td>\n",
       "      <td>PayPal</td>\n",
       "      <td>1.0</td>\n",
       "      <td>1572.60</td>\n",
       "    </tr>\n",
       "    <tr>\n",
       "      <th>3</th>\n",
       "      <td>1/1/2019</td>\n",
       "      <td>151203</td>\n",
       "      <td>NaN</td>\n",
       "      <td>18.0</td>\n",
       "      <td>Single</td>\n",
       "      <td>Virginia</td>\n",
       "      <td>Platinum</td>\n",
       "      <td>workers</td>\n",
       "      <td>Card</td>\n",
       "      <td>1.0</td>\n",
       "      <td>1199.79</td>\n",
       "    </tr>\n",
       "    <tr>\n",
       "      <th>4</th>\n",
       "      <td>1/1/2019</td>\n",
       "      <td>151204</td>\n",
       "      <td>Male</td>\n",
       "      <td>27.0</td>\n",
       "      <td>Single</td>\n",
       "      <td>Connecticut</td>\n",
       "      <td>Basic</td>\n",
       "      <td>self-employed</td>\n",
       "      <td>Card</td>\n",
       "      <td>0.0</td>\n",
       "      <td>NaN</td>\n",
       "    </tr>\n",
       "  </tbody>\n",
       "</table>\n",
       "</div>"
      ],
      "text/plain": [
       "  Transaction_date  Transaction_ID  Gender   Age Marital_status  State_names  \\\n",
       "0         1/1/2019          151200  Female  19.0         Single       Kansas   \n",
       "1         1/1/2019          151201    Male  49.0         Single     Illinois   \n",
       "2         1/1/2019          151202    Male  63.0        Married   New Mexico   \n",
       "3         1/1/2019          151203     NaN  18.0         Single     Virginia   \n",
       "4         1/1/2019          151204    Male  27.0         Single  Connecticut   \n",
       "\n",
       "    Segment Employees_status Payment_method  Referal  Amount_spent  \n",
       "0     Basic     Unemployment          Other      1.0       2051.36  \n",
       "1     Basic    self-employed           Card      0.0        544.04  \n",
       "2     Basic          workers         PayPal      1.0       1572.60  \n",
       "3  Platinum          workers           Card      1.0       1199.79  \n",
       "4     Basic    self-employed           Card      0.0           NaN  "
      ]
     },
     "execution_count": 3,
     "metadata": {},
     "output_type": "execute_result"
    }
   ],
   "source": [
    "df.head()"
   ]
  },
  {
   "cell_type": "code",
   "execution_count": 4,
   "id": "10e9a76f-195c-46c3-8494-3dabfbf4cb2d",
   "metadata": {},
   "outputs": [
    {
     "name": "stdout",
     "output_type": "stream",
     "text": [
      "<class 'pandas.core.frame.DataFrame'>\n",
      "RangeIndex: 2512 entries, 0 to 2511\n",
      "Data columns (total 11 columns):\n",
      " #   Column            Non-Null Count  Dtype  \n",
      "---  ------            --------------  -----  \n",
      " 0   Transaction_date  2512 non-null   object \n",
      " 1   Transaction_ID    2512 non-null   int64  \n",
      " 2   Gender            2484 non-null   object \n",
      " 3   Age               2470 non-null   float64\n",
      " 4   Marital_status    2512 non-null   object \n",
      " 5   State_names       2512 non-null   object \n",
      " 6   Segment           2512 non-null   object \n",
      " 7   Employees_status  2486 non-null   object \n",
      " 8   Payment_method    2512 non-null   object \n",
      " 9   Referal           2357 non-null   float64\n",
      " 10  Amount_spent      2270 non-null   float64\n",
      "dtypes: float64(3), int64(1), object(7)\n",
      "memory usage: 216.0+ KB\n"
     ]
    }
   ],
   "source": [
    "df.info()"
   ]
  },
  {
   "cell_type": "code",
   "execution_count": 5,
   "id": "241a9347-8a93-4a71-bf62-3777fcb03d02",
   "metadata": {},
   "outputs": [],
   "source": [
    "# convert object types\n",
    "df['Transaction_date'] = pd.to_datetime(df['Transaction_date'])\n",
    "df['Referal'] = df['Referal'].astype(bool)"
   ]
  },
  {
   "cell_type": "code",
   "execution_count": 6,
   "id": "8e3504d4-e414-478e-9937-f5f29a9a8bef",
   "metadata": {},
   "outputs": [
    {
     "name": "stdout",
     "output_type": "stream",
     "text": [
      "<class 'pandas.core.frame.DataFrame'>\n",
      "RangeIndex: 2512 entries, 0 to 2511\n",
      "Data columns (total 11 columns):\n",
      " #   Column            Non-Null Count  Dtype         \n",
      "---  ------            --------------  -----         \n",
      " 0   Transaction_date  2512 non-null   datetime64[ns]\n",
      " 1   Transaction_ID    2512 non-null   int64         \n",
      " 2   Gender            2484 non-null   object        \n",
      " 3   Age               2470 non-null   float64       \n",
      " 4   Marital_status    2512 non-null   object        \n",
      " 5   State_names       2512 non-null   object        \n",
      " 6   Segment           2512 non-null   object        \n",
      " 7   Employees_status  2486 non-null   object        \n",
      " 8   Payment_method    2512 non-null   object        \n",
      " 9   Referal           2512 non-null   bool          \n",
      " 10  Amount_spent      2270 non-null   float64       \n",
      "dtypes: bool(1), datetime64[ns](1), float64(2), int64(1), object(6)\n",
      "memory usage: 198.8+ KB\n"
     ]
    }
   ],
   "source": [
    "df.info()"
   ]
  },
  {
   "cell_type": "code",
   "execution_count": 7,
   "id": "d8111ba3-30b7-412c-a7fd-dae19be49e54",
   "metadata": {},
   "outputs": [
    {
     "data": {
      "text/plain": [
       "12"
      ]
     },
     "execution_count": 7,
     "metadata": {},
     "output_type": "execute_result"
    }
   ],
   "source": [
    "df.duplicated().sum()"
   ]
  },
  {
   "cell_type": "code",
   "execution_count": 8,
   "id": "44c230c0-6973-4606-978f-f600d9a2a316",
   "metadata": {},
   "outputs": [],
   "source": [
    "duplicate_value = df.duplicated(keep='first')"
   ]
  },
  {
   "cell_type": "code",
   "execution_count": 9,
   "id": "64a7e069-9fc1-4e00-9323-ef02249b9752",
   "metadata": {},
   "outputs": [
    {
     "name": "stdout",
     "output_type": "stream",
     "text": [
      "Transaction_date      0\n",
      "Transaction_ID        0\n",
      "Gender               28\n",
      "Age                  42\n",
      "Marital_status        0\n",
      "State_names           0\n",
      "Segment               0\n",
      "Employees_status     26\n",
      "Payment_method        0\n",
      "Referal               0\n",
      "Amount_spent        242\n",
      "dtype: int64\n"
     ]
    }
   ],
   "source": [
    "print(df.isnull().sum())"
   ]
  },
  {
   "cell_type": "code",
   "execution_count": 10,
   "id": "5edf10bb-8b77-4097-a9a0-7816001a8d1a",
   "metadata": {},
   "outputs": [
    {
     "data": {
      "text/html": [
       "<div>\n",
       "<style scoped>\n",
       "    .dataframe tbody tr th:only-of-type {\n",
       "        vertical-align: middle;\n",
       "    }\n",
       "\n",
       "    .dataframe tbody tr th {\n",
       "        vertical-align: top;\n",
       "    }\n",
       "\n",
       "    .dataframe thead th {\n",
       "        text-align: right;\n",
       "    }\n",
       "</style>\n",
       "<table border=\"1\" class=\"dataframe\">\n",
       "  <thead>\n",
       "    <tr style=\"text-align: right;\">\n",
       "      <th></th>\n",
       "      <th>Transaction_date</th>\n",
       "      <th>Gender</th>\n",
       "      <th>Age</th>\n",
       "      <th>Marital_status</th>\n",
       "      <th>State_names</th>\n",
       "      <th>Segment</th>\n",
       "      <th>Employees_status</th>\n",
       "      <th>Payment_method</th>\n",
       "      <th>Referal</th>\n",
       "      <th>Amount_spent</th>\n",
       "    </tr>\n",
       "  </thead>\n",
       "  <tbody>\n",
       "    <tr>\n",
       "      <th>0</th>\n",
       "      <td>2019-01-01</td>\n",
       "      <td>Female</td>\n",
       "      <td>19.0</td>\n",
       "      <td>Single</td>\n",
       "      <td>Kansas</td>\n",
       "      <td>Basic</td>\n",
       "      <td>Unemployment</td>\n",
       "      <td>Other</td>\n",
       "      <td>True</td>\n",
       "      <td>2051.36</td>\n",
       "    </tr>\n",
       "    <tr>\n",
       "      <th>1</th>\n",
       "      <td>2019-01-01</td>\n",
       "      <td>Male</td>\n",
       "      <td>49.0</td>\n",
       "      <td>Single</td>\n",
       "      <td>Illinois</td>\n",
       "      <td>Basic</td>\n",
       "      <td>self-employed</td>\n",
       "      <td>Card</td>\n",
       "      <td>False</td>\n",
       "      <td>544.04</td>\n",
       "    </tr>\n",
       "    <tr>\n",
       "      <th>2</th>\n",
       "      <td>2019-01-01</td>\n",
       "      <td>Male</td>\n",
       "      <td>63.0</td>\n",
       "      <td>Married</td>\n",
       "      <td>New Mexico</td>\n",
       "      <td>Basic</td>\n",
       "      <td>workers</td>\n",
       "      <td>PayPal</td>\n",
       "      <td>True</td>\n",
       "      <td>1572.60</td>\n",
       "    </tr>\n",
       "    <tr>\n",
       "      <th>3</th>\n",
       "      <td>2019-01-01</td>\n",
       "      <td>NaN</td>\n",
       "      <td>18.0</td>\n",
       "      <td>Single</td>\n",
       "      <td>Virginia</td>\n",
       "      <td>Platinum</td>\n",
       "      <td>workers</td>\n",
       "      <td>Card</td>\n",
       "      <td>True</td>\n",
       "      <td>1199.79</td>\n",
       "    </tr>\n",
       "    <tr>\n",
       "      <th>4</th>\n",
       "      <td>2019-01-01</td>\n",
       "      <td>Male</td>\n",
       "      <td>27.0</td>\n",
       "      <td>Single</td>\n",
       "      <td>Connecticut</td>\n",
       "      <td>Basic</td>\n",
       "      <td>self-employed</td>\n",
       "      <td>Card</td>\n",
       "      <td>False</td>\n",
       "      <td>NaN</td>\n",
       "    </tr>\n",
       "  </tbody>\n",
       "</table>\n",
       "</div>"
      ],
      "text/plain": [
       "  Transaction_date  Gender   Age Marital_status  State_names   Segment  \\\n",
       "0       2019-01-01  Female  19.0         Single       Kansas     Basic   \n",
       "1       2019-01-01    Male  49.0         Single     Illinois     Basic   \n",
       "2       2019-01-01    Male  63.0        Married   New Mexico     Basic   \n",
       "3       2019-01-01     NaN  18.0         Single     Virginia  Platinum   \n",
       "4       2019-01-01    Male  27.0         Single  Connecticut     Basic   \n",
       "\n",
       "  Employees_status Payment_method  Referal  Amount_spent  \n",
       "0     Unemployment          Other     True       2051.36  \n",
       "1    self-employed           Card    False        544.04  \n",
       "2          workers         PayPal     True       1572.60  \n",
       "3          workers           Card     True       1199.79  \n",
       "4    self-employed           Card    False           NaN  "
      ]
     },
     "execution_count": 10,
     "metadata": {},
     "output_type": "execute_result"
    }
   ],
   "source": [
    "cols_to_remove = ['Transaction_ID']\n",
    "df = df.drop(cols_to_remove, axis=1)\n",
    "df.head()"
   ]
  },
  {
   "cell_type": "code",
   "execution_count": 11,
   "id": "e569a233-d814-4304-b7b7-ad0e64839992",
   "metadata": {},
   "outputs": [],
   "source": [
    "# Replace null values with mean values in Age and Amount_spent categories\n",
    "cols_to_clean =['Age', 'Amount_spent']\n",
    "\n",
    "imputer = Imputer()\n",
    "df[cols_to_clean] = imputer.fit_transform(df[cols_to_clean])\n",
    "\n",
    "df['Age'] = df['Age'].astype(int)"
   ]
  },
  {
   "cell_type": "code",
   "execution_count": 12,
   "id": "02327016-5651-4a37-a74e-007ddb6e95e1",
   "metadata": {},
   "outputs": [],
   "source": [
    "df['Referal'] = df['Referal'].fillna(0)"
   ]
  },
  {
   "cell_type": "code",
   "execution_count": 13,
   "id": "8e90065b-e1f1-4284-8994-ca4b187433ac",
   "metadata": {},
   "outputs": [],
   "source": [
    "df['Employees_status'] = df['Employees_status'].fillna('not disclosed')\n",
    "df['Gender'] = df['Gender'].fillna('Other')"
   ]
  },
  {
   "cell_type": "code",
   "execution_count": 14,
   "id": "dd39ffbd-dd74-4ae3-88af-7d7dd2710479",
   "metadata": {},
   "outputs": [
    {
     "name": "stdout",
     "output_type": "stream",
     "text": [
      "Transaction_date    0\n",
      "Gender              0\n",
      "Age                 0\n",
      "Marital_status      0\n",
      "State_names         0\n",
      "Segment             0\n",
      "Employees_status    0\n",
      "Payment_method      0\n",
      "Referal             0\n",
      "Amount_spent        0\n",
      "dtype: int64\n"
     ]
    }
   ],
   "source": [
    "print(df.isnull().sum())"
   ]
  },
  {
   "cell_type": "code",
   "execution_count": 15,
   "id": "4ee077b5-8446-44c7-807b-1b0dd24f268a",
   "metadata": {},
   "outputs": [
    {
     "data": {
      "text/html": [
       "<div>\n",
       "<style scoped>\n",
       "    .dataframe tbody tr th:only-of-type {\n",
       "        vertical-align: middle;\n",
       "    }\n",
       "\n",
       "    .dataframe tbody tr th {\n",
       "        vertical-align: top;\n",
       "    }\n",
       "\n",
       "    .dataframe thead th {\n",
       "        text-align: right;\n",
       "    }\n",
       "</style>\n",
       "<table border=\"1\" class=\"dataframe\">\n",
       "  <thead>\n",
       "    <tr style=\"text-align: right;\">\n",
       "      <th></th>\n",
       "      <th>count</th>\n",
       "      <th>mean</th>\n",
       "      <th>std</th>\n",
       "      <th>min</th>\n",
       "      <th>25%</th>\n",
       "      <th>50%</th>\n",
       "      <th>75%</th>\n",
       "      <th>max</th>\n",
       "    </tr>\n",
       "  </thead>\n",
       "  <tbody>\n",
       "    <tr>\n",
       "      <th>Age</th>\n",
       "      <td>2512.0</td>\n",
       "      <td>46.626990</td>\n",
       "      <td>18.033725</td>\n",
       "      <td>15.00</td>\n",
       "      <td>32.0000</td>\n",
       "      <td>46.000000</td>\n",
       "      <td>62.0000</td>\n",
       "      <td>78.00</td>\n",
       "    </tr>\n",
       "    <tr>\n",
       "      <th>Amount_spent</th>\n",
       "      <td>2512.0</td>\n",
       "      <td>1418.422577</td>\n",
       "      <td>835.101648</td>\n",
       "      <td>2.09</td>\n",
       "      <td>734.8625</td>\n",
       "      <td>1418.422577</td>\n",
       "      <td>1955.9975</td>\n",
       "      <td>2999.98</td>\n",
       "    </tr>\n",
       "  </tbody>\n",
       "</table>\n",
       "</div>"
      ],
      "text/plain": [
       "               count         mean         std    min       25%          50%  \\\n",
       "Age           2512.0    46.626990   18.033725  15.00   32.0000    46.000000   \n",
       "Amount_spent  2512.0  1418.422577  835.101648   2.09  734.8625  1418.422577   \n",
       "\n",
       "                    75%      max  \n",
       "Age             62.0000    78.00  \n",
       "Amount_spent  1955.9975  2999.98  "
      ]
     },
     "execution_count": 15,
     "metadata": {},
     "output_type": "execute_result"
    }
   ],
   "source": [
    "df.describe().T"
   ]
  },
  {
   "cell_type": "code",
   "execution_count": 16,
   "id": "862ae27c-ed00-4880-b63c-c39e353e4b60",
   "metadata": {},
   "outputs": [
    {
     "data": {
      "text/html": [
       "<div>\n",
       "<style scoped>\n",
       "    .dataframe tbody tr th:only-of-type {\n",
       "        vertical-align: middle;\n",
       "    }\n",
       "\n",
       "    .dataframe tbody tr th {\n",
       "        vertical-align: top;\n",
       "    }\n",
       "\n",
       "    .dataframe thead th {\n",
       "        text-align: right;\n",
       "    }\n",
       "</style>\n",
       "<table border=\"1\" class=\"dataframe\">\n",
       "  <thead>\n",
       "    <tr style=\"text-align: right;\">\n",
       "      <th></th>\n",
       "      <th>count</th>\n",
       "      <th>unique</th>\n",
       "      <th>top</th>\n",
       "      <th>freq</th>\n",
       "    </tr>\n",
       "  </thead>\n",
       "  <tbody>\n",
       "    <tr>\n",
       "      <th>Gender</th>\n",
       "      <td>2512</td>\n",
       "      <td>3</td>\n",
       "      <td>Female</td>\n",
       "      <td>1356</td>\n",
       "    </tr>\n",
       "    <tr>\n",
       "      <th>Marital_status</th>\n",
       "      <td>2512</td>\n",
       "      <td>2</td>\n",
       "      <td>Married</td>\n",
       "      <td>1473</td>\n",
       "    </tr>\n",
       "    <tr>\n",
       "      <th>State_names</th>\n",
       "      <td>2512</td>\n",
       "      <td>50</td>\n",
       "      <td>Illinois</td>\n",
       "      <td>67</td>\n",
       "    </tr>\n",
       "    <tr>\n",
       "      <th>Segment</th>\n",
       "      <td>2512</td>\n",
       "      <td>5</td>\n",
       "      <td>Basic</td>\n",
       "      <td>1136</td>\n",
       "    </tr>\n",
       "    <tr>\n",
       "      <th>Employees_status</th>\n",
       "      <td>2512</td>\n",
       "      <td>5</td>\n",
       "      <td>Employees</td>\n",
       "      <td>946</td>\n",
       "    </tr>\n",
       "    <tr>\n",
       "      <th>Payment_method</th>\n",
       "      <td>2512</td>\n",
       "      <td>3</td>\n",
       "      <td>PayPal</td>\n",
       "      <td>1168</td>\n",
       "    </tr>\n",
       "  </tbody>\n",
       "</table>\n",
       "</div>"
      ],
      "text/plain": [
       "                 count unique        top  freq\n",
       "Gender            2512      3     Female  1356\n",
       "Marital_status    2512      2    Married  1473\n",
       "State_names       2512     50   Illinois    67\n",
       "Segment           2512      5      Basic  1136\n",
       "Employees_status  2512      5  Employees   946\n",
       "Payment_method    2512      3     PayPal  1168"
      ]
     },
     "execution_count": 16,
     "metadata": {},
     "output_type": "execute_result"
    }
   ],
   "source": [
    "df.describe(include=object).T"
   ]
  },
  {
   "cell_type": "code",
   "execution_count": 17,
   "id": "c3083de6-5050-4793-bffc-264b77a11b79",
   "metadata": {},
   "outputs": [
    {
     "data": {
      "text/html": [
       "<div>\n",
       "<style scoped>\n",
       "    .dataframe tbody tr th:only-of-type {\n",
       "        vertical-align: middle;\n",
       "    }\n",
       "\n",
       "    .dataframe tbody tr th {\n",
       "        vertical-align: top;\n",
       "    }\n",
       "\n",
       "    .dataframe thead th {\n",
       "        text-align: right;\n",
       "    }\n",
       "</style>\n",
       "<table border=\"1\" class=\"dataframe\">\n",
       "  <thead>\n",
       "    <tr style=\"text-align: right;\">\n",
       "      <th></th>\n",
       "      <th>Age</th>\n",
       "      <th>Referal</th>\n",
       "      <th>Amount_spent</th>\n",
       "    </tr>\n",
       "  </thead>\n",
       "  <tbody>\n",
       "    <tr>\n",
       "      <th>Age</th>\n",
       "      <td>1.000000</td>\n",
       "      <td>0.012578</td>\n",
       "      <td>-0.021856</td>\n",
       "    </tr>\n",
       "    <tr>\n",
       "      <th>Referal</th>\n",
       "      <td>0.012578</td>\n",
       "      <td>1.000000</td>\n",
       "      <td>-0.009089</td>\n",
       "    </tr>\n",
       "    <tr>\n",
       "      <th>Amount_spent</th>\n",
       "      <td>-0.021856</td>\n",
       "      <td>-0.009089</td>\n",
       "      <td>1.000000</td>\n",
       "    </tr>\n",
       "  </tbody>\n",
       "</table>\n",
       "</div>"
      ],
      "text/plain": [
       "                   Age   Referal  Amount_spent\n",
       "Age           1.000000  0.012578     -0.021856\n",
       "Referal       0.012578  1.000000     -0.009089\n",
       "Amount_spent -0.021856 -0.009089      1.000000"
      ]
     },
     "execution_count": 17,
     "metadata": {},
     "output_type": "execute_result"
    }
   ],
   "source": [
    "df.corr()"
   ]
  },
  {
   "cell_type": "markdown",
   "id": "8ec472ce-0e80-47b8-9a5a-de2feffad304",
   "metadata": {},
   "source": [
    "Amount spent and Age have slight negative correlation, otherwise small correlations"
   ]
  },
  {
   "cell_type": "code",
   "execution_count": 18,
   "id": "7d44611e-7caa-419b-8aa2-74762739c0da",
   "metadata": {},
   "outputs": [
    {
     "data": {
      "text/html": [
       "<div>\n",
       "<style scoped>\n",
       "    .dataframe tbody tr th:only-of-type {\n",
       "        vertical-align: middle;\n",
       "    }\n",
       "\n",
       "    .dataframe tbody tr th {\n",
       "        vertical-align: top;\n",
       "    }\n",
       "\n",
       "    .dataframe thead th {\n",
       "        text-align: right;\n",
       "    }\n",
       "</style>\n",
       "<table border=\"1\" class=\"dataframe\">\n",
       "  <thead>\n",
       "    <tr style=\"text-align: right;\">\n",
       "      <th></th>\n",
       "      <th>Transaction_date</th>\n",
       "      <th>Gender</th>\n",
       "      <th>Age</th>\n",
       "      <th>Marital_status</th>\n",
       "      <th>State_names</th>\n",
       "      <th>Segment</th>\n",
       "      <th>Employees_status</th>\n",
       "      <th>Payment_method</th>\n",
       "      <th>Referal</th>\n",
       "      <th>Amount_spent</th>\n",
       "    </tr>\n",
       "  </thead>\n",
       "  <tbody>\n",
       "    <tr>\n",
       "      <th>17</th>\n",
       "      <td>2019-01-07</td>\n",
       "      <td>Female</td>\n",
       "      <td>77</td>\n",
       "      <td>Married</td>\n",
       "      <td>New Mexico</td>\n",
       "      <td>Platinum</td>\n",
       "      <td>workers</td>\n",
       "      <td>Card</td>\n",
       "      <td>False</td>\n",
       "      <td>2999.98</td>\n",
       "    </tr>\n",
       "    <tr>\n",
       "      <th>485</th>\n",
       "      <td>2019-06-07</td>\n",
       "      <td>Male</td>\n",
       "      <td>65</td>\n",
       "      <td>Married</td>\n",
       "      <td>Arizona</td>\n",
       "      <td>Gold</td>\n",
       "      <td>self-employed</td>\n",
       "      <td>PayPal</td>\n",
       "      <td>True</td>\n",
       "      <td>2998.62</td>\n",
       "    </tr>\n",
       "    <tr>\n",
       "      <th>2279</th>\n",
       "      <td>2021-02-15</td>\n",
       "      <td>Female</td>\n",
       "      <td>78</td>\n",
       "      <td>Single</td>\n",
       "      <td>Arizona</td>\n",
       "      <td>Silver</td>\n",
       "      <td>Employees</td>\n",
       "      <td>PayPal</td>\n",
       "      <td>True</td>\n",
       "      <td>2997.21</td>\n",
       "    </tr>\n",
       "    <tr>\n",
       "      <th>589</th>\n",
       "      <td>2019-07-13</td>\n",
       "      <td>Male</td>\n",
       "      <td>51</td>\n",
       "      <td>Single</td>\n",
       "      <td>North Carolina</td>\n",
       "      <td>Missing</td>\n",
       "      <td>Employees</td>\n",
       "      <td>PayPal</td>\n",
       "      <td>True</td>\n",
       "      <td>2997.15</td>\n",
       "    </tr>\n",
       "    <tr>\n",
       "      <th>743</th>\n",
       "      <td>2019-08-30</td>\n",
       "      <td>Male</td>\n",
       "      <td>44</td>\n",
       "      <td>Single</td>\n",
       "      <td>Illinois</td>\n",
       "      <td>Basic</td>\n",
       "      <td>Employees</td>\n",
       "      <td>Card</td>\n",
       "      <td>True</td>\n",
       "      <td>2996.82</td>\n",
       "    </tr>\n",
       "  </tbody>\n",
       "</table>\n",
       "</div>"
      ],
      "text/plain": [
       "     Transaction_date  Gender  Age Marital_status     State_names   Segment  \\\n",
       "17         2019-01-07  Female   77        Married      New Mexico  Platinum   \n",
       "485        2019-06-07    Male   65        Married         Arizona      Gold   \n",
       "2279       2021-02-15  Female   78         Single         Arizona    Silver   \n",
       "589        2019-07-13    Male   51         Single  North Carolina   Missing   \n",
       "743        2019-08-30    Male   44         Single        Illinois     Basic   \n",
       "\n",
       "     Employees_status Payment_method  Referal  Amount_spent  \n",
       "17            workers           Card    False       2999.98  \n",
       "485     self-employed         PayPal     True       2998.62  \n",
       "2279        Employees         PayPal     True       2997.21  \n",
       "589         Employees         PayPal     True       2997.15  \n",
       "743         Employees           Card     True       2996.82  "
      ]
     },
     "execution_count": 18,
     "metadata": {},
     "output_type": "execute_result"
    }
   ],
   "source": [
    "df.nlargest(5, 'Amount_spent')"
   ]
  },
  {
   "cell_type": "markdown",
   "id": "9a30fbfa-8ccb-4fee-b4a0-10d59828315f",
   "metadata": {},
   "source": [
    "We can see that the 5 biggest transactions were made by people aged 40 and over\n",
    "\n",
    "Next we will take a look at how the different payment methods are represented in the data"
   ]
  },
  {
   "cell_type": "code",
   "execution_count": 19,
   "id": "8fcfaa73-ec4b-4f20-bf55-1094b12e6bf7",
   "metadata": {},
   "outputs": [
    {
     "data": {
      "text/plain": [
       "array(['Other', 'Card', 'PayPal'], dtype=object)"
      ]
     },
     "execution_count": 19,
     "metadata": {},
     "output_type": "execute_result"
    }
   ],
   "source": [
    "df['Payment_method'].unique()"
   ]
  },
  {
   "cell_type": "code",
   "execution_count": 20,
   "id": "9aff51e8-16cf-4f07-80e9-7ea74902d389",
   "metadata": {},
   "outputs": [
    {
     "name": "stdout",
     "output_type": "stream",
     "text": [
      "Sum of purchases with Card payments is 1046943.46$\n",
      "Sum of purchases with PayPal is 1654891.97$\n",
      "Sum of purchases with Other payment methods is 861242.08$\n"
     ]
    }
   ],
   "source": [
    "# Select all rows with payment types\n",
    "payment_methods = df.loc[:,['Amount_spent','Payment_method']]\n",
    "\n",
    "card = payment_methods[payment_methods['Payment_method'] == 'Card' ]\n",
    "\n",
    "paypal = payment_methods[payment_methods['Payment_method'] == 'PayPal']\n",
    "\n",
    "other = payment_methods[payment_methods['Payment_method'] == 'Other']\n",
    "\n",
    "\n",
    "result = [card, paypal, other]\n",
    "result_concat = pd.concat([card, paypal, other], keys={'Card': card,\n",
    "                                                        'Paypal': paypal,\n",
    "                                                        'Other': other,})\n",
    "sum_card = sum(card['Amount_spent'])\n",
    "sum_paypal = sum(paypal['Amount_spent'])\n",
    "sum_other = sum(other['Amount_spent'])\n",
    "\n",
    "# Printing all purchases with each payment type\n",
    "print(f\"Sum of purchases with Card payments is {sum_card:.2f}$\")\n",
    "print(f\"Sum of purchases with PayPal is {sum_paypal:.2f}$\")\n",
    "print(f\"Sum of purchases with Other payment methods is {sum_other:.2f}$\")"
   ]
  },
  {
   "cell_type": "code",
   "execution_count": 21,
   "id": "2b9a844f-bb60-43f0-ab7f-c2028ac524c3",
   "metadata": {},
   "outputs": [
    {
     "name": "stdout",
     "output_type": "stream",
     "text": [
      "        Payment_method\n",
      "PayPal            1168\n",
      "Card               749\n",
      "Other              595\n"
     ]
    }
   ],
   "source": [
    "# Get the total number of transactions for each payment type\n",
    "payment_values = df['Payment_method'].value_counts().to_frame()\n",
    "print(payment_values)"
   ]
  },
  {
   "cell_type": "code",
   "execution_count": 22,
   "id": "c0daf4fa-8343-42cb-a0ef-2b2e4591e594",
   "metadata": {},
   "outputs": [
    {
     "data": {
      "text/plain": [
       "Text(0.5, 1.0, 'Total number of payments with each method')"
      ]
     },
     "execution_count": 22,
     "metadata": {},
     "output_type": "execute_result"
    },
    {
     "data": {
      "image/png": "[encoded data removed]",
      "text/plain": [
       "<Figure size 1440x432 with 2 Axes>"
      ]
     },
     "metadata": {
      "needs_background": "light"
     },
     "output_type": "display_data"
    }
   ],
   "source": [
    "x = ['PayPal', 'Card', 'Other']\n",
    "y = [sum_paypal, sum_card, sum_other]\n",
    "\n",
    "fig1, (ax1, ax2) = plt.subplots(1, 2, figsize=(20,6))\n",
    "ax1.bar(x, y)\n",
    "ax1.set_xlabel('Payment methods')\n",
    "ax1.set_ylabel('Sum $ in millions')\n",
    "ax1.set_title('Sum of payments with each method')\n",
    "\n",
    "ax2.bar(x, df['Payment_method'].value_counts())\n",
    "ax2.set_xlabel('Payment methods')\n",
    "ax2.set_ylabel('Number of payments')\n",
    "ax2.set_title('Total number of payments with each method')"
   ]
  },
  {
   "cell_type": "markdown",
   "id": "3b80fcc8-c426-44dc-a8b5-375a8b3a8e1f",
   "metadata": {},
   "source": [
    "Paypal is clearly the most used payment method\n",
    "\n",
    "Next we will look at the amount spent between customer segments"
   ]
  },
  {
   "cell_type": "code",
   "execution_count": 23,
   "id": "2a0229f9-5193-4a30-ae60-764aba99d4e6",
   "metadata": {},
   "outputs": [
    {
     "name": "stdout",
     "output_type": "stream",
     "text": [
      "642819.4862775326\n",
      "343993.39958149777\n",
      "692192.3568942726\n",
      "1604367.9574008812\n",
      "279704.3135022025\n"
     ]
    }
   ],
   "source": [
    "# Select all rows with payment types\n",
    "segments = df.loc[:,['Amount_spent','Segment']]\n",
    "plat = segments[segments['Segment'] == 'Platinum' ]\n",
    "gold = segments[segments['Segment'] == 'Gold' ]\n",
    "silver = segments[segments['Segment'] == 'Silver' ]\n",
    "basic = segments[segments['Segment'] == 'Basic' ]\n",
    "missing = segments[segments['Segment'] == 'Missing' ]\n",
    "\n",
    "\n",
    "result = [plat, gold, silver, basic, missing]\n",
    "result_concat = pd.concat([plat, gold, silver, basic, missing], keys={'Platinum': plat,\n",
    "                                                                     'Gold' : gold,\n",
    "                                                                    'Silver' : silver,\n",
    "                                                                     'Basic' : basic,\n",
    "                                                                     'Missing' : missing})\n",
    "sum_plat = sum(plat['Amount_spent'])\n",
    "sum_gold = sum(gold['Amount_spent'])\n",
    "sum_silver = sum(silver['Amount_spent'])\n",
    "sum_basic = sum(basic['Amount_spent'])\n",
    "sum_missing = sum(missing['Amount_spent'])\n",
    "\n",
    "print(sum_plat)\n",
    "print(sum_gold)\n",
    "print(sum_silver)\n",
    "print(sum_basic)\n",
    "print(sum_missing)"
   ]
  },
  {
   "cell_type": "code",
   "execution_count": 24,
   "id": "0bbcfb59-e8a0-412d-8a76-946278a58889",
   "metadata": {},
   "outputs": [
    {
     "data": {
      "text/plain": [
       "Basic       1136\n",
       "Silver       490\n",
       "Platinum     443\n",
       "Gold         247\n",
       "Missing      196\n",
       "Name: Segment, dtype: int64"
      ]
     },
     "execution_count": 24,
     "metadata": {},
     "output_type": "execute_result"
    }
   ],
   "source": [
    "df['Segment'].value_counts()"
   ]
  },
  {
   "cell_type": "code",
   "execution_count": 25,
   "id": "a9ee426b-66ff-43c5-a9af-3be460458b2f",
   "metadata": {},
   "outputs": [
    {
     "data": {
      "image/png": "[encoded data removed]",
      "text/plain": [
       "<Figure size 1440x432 with 2 Axes>"
      ]
     },
     "metadata": {},
     "output_type": "display_data"
    }
   ],
   "source": [
    "x = ['Basic', 'Silver','Platinum', 'Gold', 'Missing']\n",
    "y = [sum_basic, sum_silver, sum_plat, sum_gold, sum_missing]\n",
    "\n",
    "colors=['lightblue', 'yellow', 'green', 'orange', 'red']\n",
    "\n",
    "fig2, (ax1, ax2) = plt.subplots(1, 2, figsize=(20,6))\n",
    "ax2 = df['Segment'].value_counts().plot(kind='pie', colors=colors, autopct='%1.1f%%')\n",
    "ax2.set_ylabel('')\n",
    "ax2.set_title('Proportions of different segments')\n",
    "\n",
    "\n",
    "ax1.pie(y, labels=x, colors=colors, autopct='%1.1f%%')\n",
    "ax1.set_title('Amount spend by different segments')\n",
    "\n",
    "\n",
    "plt.show()"
   ]
  },
  {
   "cell_type": "markdown",
   "id": "18fffcdd-4ee1-4708-a501-73f2aed111ce",
   "metadata": {},
   "source": [
    "There are no major differences in amount spend by different segments compared to the proportions of the segments. New bonuses to different segments should be taken into consideration, as right now for example being in Platinum segment has not raised the amount spent significantly."
   ]
  },
  {
   "cell_type": "code",
   "execution_count": null,
   "id": "0d4d3d0c-21dc-4acc-8d2f-c4262dbc09cd",
   "metadata": {},
   "outputs": [],
   "source": []
  },
  {
   "cell_type": "code",
   "execution_count": null,
   "id": "2c0e79a6-7139-4505-9b1d-bf8bbff32cb0",
   "metadata": {},
   "outputs": [],
   "source": []
  }
 ],
 "metadata": {
  "kernelspec": {
   "display_name": "Python 3 (ipykernel)",
   "language": "python",
   "name": "python3"
  },
  "language_info": {
   "codemirror_mode": {
    "name": "ipython",
    "version": 3
   },
   "file_extension": ".py",
   "mimetype": "text/x-python",
   "name": "python",
   "nbconvert_exporter": "python",
   "pygments_lexer": "ipython3",
   "version": "3.9.7"
  }
 },
 "nbformat": 4,
 "nbformat_minor": 5
}
